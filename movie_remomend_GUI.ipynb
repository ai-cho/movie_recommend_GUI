{
 "cells": [
  {
   "cell_type": "markdown",
   "metadata": {},
   "source": [
    "# 영화 추천 및 즐겨찾기 GUI\n",
    "### 조건에 따른 영화 선택 및 즐겨찾기 "
   ]
  },
  {
   "cell_type": "markdown",
   "metadata": {},
   "source": [
    "### 1. 데이터 처리"
   ]
  },
  {
   "cell_type": "code",
   "execution_count": 113,
   "metadata": {},
   "outputs": [],
   "source": [
    "# 데이터 소개\n",
    "# kaggle https://www.kaggle.com/code/ayushimishra2809/movie-recommendation-system/input?select=ratings.csv 사용"
   ]
  },
  {
   "cell_type": "code",
   "execution_count": 114,
   "metadata": {},
   "outputs": [],
   "source": [
    "import pandas as pd\n",
    "from datetime import datetime\n",
    "import re\n"
   ]
  },
  {
   "cell_type": "code",
   "execution_count": 115,
   "metadata": {},
   "outputs": [
    {
     "name": "stdout",
     "output_type": "stream",
     "text": [
      "   movieId             title                                       genres\n",
      "0        1  Toy Story (1995)  Adventure|Animation|Children|Comedy|Fantasy\n",
      "   userId  movieId  rating   timestamp\n",
      "0       1       16     4.0  1217897793\n"
     ]
    }
   ],
   "source": [
    "# 데이터 불러오기\n",
    "raw_movies = pd.read_csv('movies.csv')\n",
    "raw_user_rating = pd.read_csv('ratings.csv')\n",
    "print(raw_movies.head(1)) \n",
    "print(raw_user_rating.head(1))"
   ]
  },
  {
   "cell_type": "code",
   "execution_count": 116,
   "metadata": {},
   "outputs": [],
   "source": [
    "#데이터 전처리\n",
    "\n",
    "#영화 수 너무 많음. #100개만으로 하기\n",
    "movies = raw_movies.sample(n = 100, random_state=42)\n",
    "# 유저 별 영화 평점 평균\n",
    "rating = raw_user_rating[['movieId', 'rating']].groupby('movieId').mean().round(1).reset_index()\n",
    "rating.head(1)\n",
    "# 합치기 (컬럼 : 영화 제목(날짜), 영화 장르, 평점)\n",
    "data = movies.merge(rating)\n",
    "data = data.drop('movieId', axis = 1)"
   ]
  },
  {
   "cell_type": "code",
   "execution_count": 117,
   "metadata": {},
   "outputs": [],
   "source": [
    "# 제목에서 연도 지우기 +  연도는 따라 딕셔너리에 저장\n",
    "# 장르 리스트 생성\n",
    "\n",
    "movie_date = {}\n",
    "genre = set()\n",
    "for idx,i in data.iterrows():\n",
    "    movie_date[i['title'][:-7]] = int(i['title'][-5:-1])\n",
    "    data.at[idx, 'title'] = i['title'][:-7]\n",
    "    for j in i['genres'].split('|'):\n",
    "        genre.add(j)\n",
    "genre = list(genre)"
   ]
  },
  {
   "cell_type": "markdown",
   "metadata": {},
   "source": [
    "### GUI 만들기 시작"
   ]
  },
  {
   "cell_type": "code",
   "execution_count": 118,
   "metadata": {},
   "outputs": [],
   "source": [
    "import tkinter as tk\n",
    "from tkinter import *\n",
    "from tkinter import ttk\n",
    "from tkinter import messagebox\n"
   ]
  },
  {
   "cell_type": "code",
   "execution_count": 119,
   "metadata": {},
   "outputs": [
    {
     "name": "stdout",
     "output_type": "stream",
     "text": [
      "Logged IN Successfully\n",
      "추가완료\n"
     ]
    },
    {
     "name": "stderr",
     "output_type": "stream",
     "text": [
      "C:\\Users\\Jeonghwan Cho\\AppData\\Local\\Temp\\ipykernel_5212\\1071287749.py:94: SettingWithCopyWarning: \n",
      "A value is trying to be set on a copy of a slice from a DataFrame.\n",
      "Try using .loc[row_indexer,col_indexer] = value instead\n",
      "\n",
      "See the caveats in the documentation: https://pandas.pydata.org/pandas-docs/stable/user_guide/indexing.html#returning-a-view-versus-a-copy\n",
      "  date['date'] = d_list\n"
     ]
    }
   ],
   "source": [
    "w = Tk()\n",
    "w.title('시작')\n",
    "\n",
    "def login(): #로그인\n",
    "    id_f = open('User_Id.txt', 'r') #회원관리 파일에 존재하는 아이디, 비밀번호인지 체크\n",
    "    id = id_f.read()\n",
    "    pw_f = open('User_pw.txt', 'r')\n",
    "    pw = pw_f.read()\n",
    "    id_f.close()\n",
    "    pw_f.close()\n",
    "\n",
    "    if user_id.get() == id and password.get() == pw:\n",
    "        print(\"Logged IN Successfully\")\n",
    "        messagebox.showinfo('로그인', '환영합니다.')\n",
    "        start()\n",
    "    else:\n",
    "        messagebox.showinfo('로그인', '아이디/비밀번호가 맞지 않습니다')\n",
    "\n",
    "def start(): #메인 화면\n",
    "    global new1\n",
    "    global movie_search\n",
    "    new1 = Toplevel()\n",
    "    new1.title('나만의 영화장')\n",
    "    frame1 = Frame(new1)\n",
    "    frame1.pack()\n",
    "    l1 = Label(frame1, text = '원하는 영화를 검색해주세요').grid(row = 0,column=0)\n",
    "    movie_search = Entry(frame1)\n",
    "    movie_search.grid(row=1)\n",
    "    butt1 = Button(frame1, text = '검색', command = search_movie, bg = 'blue', fg = 'white').grid(row=1,column=1)\n",
    "    butt2 = Button(frame1, text = '장르선택', command = genre_select, bg = 'sky blue').grid(row=2, column=0)\n",
    "    butt3 = Button(frame1, text = '즐겨찾기 보기', command = recommend_show, bg = 'sky blue').grid(row=3,column=0)\n",
    "\n",
    "def search_movie(): # 영화 검색\n",
    "    global new2\n",
    "    new2 = Toplevel()\n",
    "    new2.title('영화검색')\n",
    "    frame2 = Frame(new2)\n",
    "    frame2.pack()\n",
    "    s_movie = movie_search.get()\n",
    "    if s_movie in list(data['title']):\n",
    "        row = data[data['title'] == s_movie].iloc[0]\n",
    "        text = f\"제목 : {row['title']}, 장르 : {row['genres']}, 평점 : {row['rating']}\"\n",
    "        butt1 = Button(frame2, text = text, command = lambda t=text: recommend_add(t), bg = 'bisque').pack()\n",
    "    else:\n",
    "        messagebox.showinfo('오류', '해당하는 영화가 없습니다.')\n",
    "        new2.destroy()\n",
    "\n",
    "def genre_select(): #장르 선택\n",
    "    global new3\n",
    "    global genre_combo\n",
    "    new3 = Toplevel()\n",
    "    new3.title('장르검색')\n",
    "    frame3 = Frame(new3)\n",
    "    frame3.pack()\n",
    "    genre_combo = ttk.Combobox(frame3, values = genre)\n",
    "    genre_combo.pack()\n",
    "    butt1 = Button(frame3, text = '선택완료', command = genre_movie, bg = 'blue', fg = 'white').pack()\n",
    "\n",
    "def genre_movie(): #장르로 영화 검색\n",
    "    global new4\n",
    "    global selected_genre\n",
    "    global frame4\n",
    "    new4 = Toplevel()\n",
    "    new4.title('장르검색')\n",
    "    frame4 = Frame(new4)\n",
    "    frame4.pack()\n",
    "    mainMenu = Menu(new4)\n",
    "    new4.config(menu = mainMenu)\n",
    "    fileMenu = Menu(mainMenu)\n",
    "    mainMenu.add_cascade(label = \"정렬\", menu = fileMenu)\n",
    "    fileMenu.add_command(label = '별점순', command = sort_rating)\n",
    "    fileMenu.add_separator()\n",
    "    fileMenu.add_command(label = '날짜순', command = sort_dating)\n",
    "\n",
    "    selected_genre = genre_combo.get()\n",
    "    for idx, i in data.iterrows():\n",
    "        if selected_genre in i['genres']:\n",
    "            text = f\"제목 : {i['title']}, 장르 : {i['genres']}, 평점 : {i['rating']}\"\n",
    "            Button(frame4, text=text, command=lambda t=text: recommend_add(t), bg = 'bisque').pack(pady = 5)\n",
    "\n",
    "def sort_rating(): #별점 정렬 (높은순)\n",
    "    s_r_data = data.loc[[idx for idx, i in data.iterrows() if selected_genre in i['genres']]].sort_values(by = 'rating', ascending = False)\n",
    "    for widget in frame4.winfo_children():\n",
    "        widget.destroy()\n",
    "\n",
    "    for idx, i in s_r_data.iterrows():\n",
    "        text = f\"제목 : {i['title']}, 장르 : {i['genres']}, 평점 : {i['rating']}\"\n",
    "        Button(frame4, text=text, command=lambda t=text: recommend_add(t), bg = 'bisque').pack()\n",
    "\n",
    "\n",
    "def sort_dating(): #날짜 정렬 (최신순)\n",
    "    date = data[:]\n",
    "    d_list = [movie_date[j] for j in list(data['title'])]\n",
    "    date['date'] = d_list\n",
    "    date = date.loc[[idx for idx, i in date.iterrows() if selected_genre in i['genres']]].sort_values(by = 'date', ascending = False)\n",
    "    for widget in frame4.winfo_children():\n",
    "        widget.destroy()\n",
    "\n",
    "    for idx, i in date.iterrows():\n",
    "        text = f\"제목 : {i['title']}, 장르 : {i['genres']}, 평점 : {i['rating']}\"\n",
    "        Button(frame4, text=text, command=lambda t=text: recommend_add(t), bg = 'bisque').pack()\n",
    "\n",
    "def recommend_show(): #즐겨찾기 확인\n",
    "    global new5\n",
    "    new5 = Toplevel()\n",
    "    new5.title('즐겨찾기')\n",
    "    frame5 = Frame(new5)\n",
    "    frame5.pack()\n",
    "    f = open('recommend.txt', 'r')\n",
    "    while True:\n",
    "        line  = f.readline()\n",
    "        if not line: break\n",
    "        Label(frame5, text = line[:-1]).pack()\n",
    "    f.close()\n",
    "\n",
    "def recommend_add(content): #즐겨찾기 추가\n",
    "    f = open('recommend.txt', 'a')\n",
    "    f.write(content+'\\n')\n",
    "    f.close()\n",
    "    print('추가완료')\n",
    "    messagebox.showinfo('즐겨찾기', '즐겨찾기에 추가되었습니다^^')\n",
    "\n",
    "\n",
    "messagebox.showinfo('시작', '나만의 영화장에 오신 걸 환영합니다.')\n",
    "user_id, password = StringVar(), StringVar()\n",
    "tk.Label(w, text = \"Username : \").grid(row=1, column=0)\n",
    "tk.Label(w, text = \"Password : \").grid(row=2, column=0)\n",
    "tk.Entry(w, textvariable = user_id).grid(row=1, column=1)\n",
    "tk.Entry(w, show = '*', textvariable = password).grid(row=2, column=1)\n",
    "tk.Button(w, text = \"Login\", command = login, bg=\"blue\", fg=\"white\").grid(row=3, column=0,columnspan=2)\n",
    "\n",
    "mainloop()"
   ]
  },
  {
   "cell_type": "code",
   "execution_count": 120,
   "metadata": {},
   "outputs": [],
   "source": [
    "# 이번 학기 제게 정말 필요한 내용을 다루어주셔서 감사합니다. 덕분에 부족한 부분을 많이 보완할 수 있었습니다. 교수님, 조교님 모두 수고하셨습니다. 감사합니다."
   ]
  }
 ],
 "metadata": {
  "kernelspec": {
   "display_name": "base",
   "language": "python",
   "name": "python3"
  },
  "language_info": {
   "codemirror_mode": {
    "name": "ipython",
    "version": 3
   },
   "file_extension": ".py",
   "mimetype": "text/x-python",
   "name": "python",
   "nbconvert_exporter": "python",
   "pygments_lexer": "ipython3",
   "version": "3.11.4"
  }
 },
 "nbformat": 4,
 "nbformat_minor": 2
}
